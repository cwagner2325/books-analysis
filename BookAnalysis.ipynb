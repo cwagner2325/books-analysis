{
 "cells": [
  {
   "cell_type": "code",
   "execution_count": 1,
   "id": "2658e9ea-6bb3-4fdd-a99c-a8845c683888",
   "metadata": {},
   "outputs": [],
   "source": [
    "# Cayden Wagner"
   ]
  },
  {
   "cell_type": "code",
   "execution_count": 2,
   "id": "65cdb2f4-a5a4-47b5-8e90-20b0b25cc943",
   "metadata": {},
   "outputs": [
    {
     "data": {
      "application/vnd.jupyter.widget-view+json": {
       "model_id": "8bf38492bb774e60b8f2d6fa4e55f8b2",
       "version_major": 2,
       "version_minor": 0
      },
      "text/plain": [
       "VBox(children=(HBox(children=(Button(description='top', style=ButtonStyle()), Button(description='bottom', sty…"
      ]
     },
     "metadata": {},
     "output_type": "display_data"
    }
   ],
   "source": [
    "%matplotlib widget\n",
    "from urllib.request import urlopen\n",
    "import json\n",
    "import ipywidgets\n",
    "import matplotlib.pyplot as plt\n",
    "\n",
    "widgets = []\n",
    "yARI = []\n",
    "yFKG = []\n",
    "xVals = []\n",
    "graph = plt.subplot()\n",
    "push = 0\n",
    "\n",
    "def printBooks(item = None):\n",
    "    global push\n",
    "    if None == item:\n",
    "        push = 0\n",
    "    elif item.description == 'top':\n",
    "        push = 0\n",
    "    elif item.description == 'bottom':\n",
    "        push = len(bookData) - 10\n",
    "    elif item.description == 'up':\n",
    "        push += 10\n",
    "        push = push % len(bookData)\n",
    "    elif item.description == 'down':\n",
    "        push -= 10\n",
    "        if push < 0:\n",
    "            push = len(bookData) + push\n",
    "    string = \"Books\\n\\n\"\n",
    "    for i in range (push, 10 + push):\n",
    "        string += f'{i+1}. {bookData[i][\"bibliography\"][\"title\"]}\\n'\n",
    "        \n",
    "    textBox.rows=string.count('\\n')\n",
    "    textBox.value=string\n",
    "    \n",
    "    buildGraph(push)\n",
    "    \n",
    "def buildGraph(start = 0):\n",
    "    global graph\n",
    "    graph.clear()\n",
    "    \n",
    "    [l.remove() for l in graph.lines]\n",
    "    minARI = min(yARI[start:start+10])\n",
    "    maxARI = max(yARI[start:start + 10])\n",
    "    minFKG = min(yFKG[start:start+10])\n",
    "    maxFKG = max(yFKG[start:start + 10])\n",
    "    \n",
    "    graph.set_xlim(xVals[start], xVals[start+9])\n",
    "    graph.set_ylim(min(minARI,minFKG)-2, max(maxARI,maxFKG)+2)\n",
    "    \n",
    "    graph.plot(xVals[start:start+10], yARI[start:start + 10], label='ARI')\n",
    "    graph.plot(xVals[start:start+10], yFKG[start:start + 10], label='FKG')\n",
    "    \n",
    "    graph.legend()\n",
    "    \n",
    "    avgS.value = str(sum(yARI[start:start+10]) / 10)\n",
    "    \n",
    "with open('data/bookData.json', encoding='utf-8') as inFile:\n",
    "    bookData = json.load(inFile)\n",
    "        \n",
    "for i in range(len(bookData)):\n",
    "    yARI.append(bookData[i]['metrics']['difficulty']['automated readability index'])\n",
    "    yFKG.append(bookData[i]['metrics']['difficulty']['flesch kincaid grade'])\n",
    "    xVals.append(i)\n",
    "\n",
    "graph.set_ylabel(\"ARI/FKG\")\n",
    "graph.set_xlabel(\"Rank\")\n",
    "graph.set_title(\"ARI, FKG vs Rank\")\n",
    "\n",
    "top_btn = ipywidgets.Button(description = 'top')\n",
    "bottom_btn = ipywidgets.Button(description = 'bottom')\n",
    "down_btn = ipywidgets.Button(description = 'down')\n",
    "up_btn = ipywidgets.Button(description = 'up')\n",
    "SortF_btn = ipywidgets.Button(description = 'Sort: Forward')\n",
    "SortR_btn = ipywidgets.Button(description = 'Sort: Reverse')\n",
    "textBox = ipywidgets.Textarea(value='',\n",
    "                              rows=1,\n",
    "                              disabled=True, \n",
    "                              layout=ipywidgets.Layout(height='100%', width=\"100%\"))\n",
    "\n",
    "avgAll = ipywidgets.Text(value=str(sum(yARI) / len(yARI)), description='Avg ARI (All):', disabled=True)\n",
    "avgS = ipywidgets.Text(value='', description='Avg ARI (Sample):', disabled=True)\n",
    "\n",
    "top_btn.on_click(printBooks)\n",
    "bottom_btn.on_click(printBooks)\n",
    "up_btn.on_click(printBooks)\n",
    "down_btn.on_click(printBooks)\n",
    "printBooks()\n",
    "\n",
    "out = ipywidgets.Output()\n",
    "with out:\n",
    "    plt.show(graph)\n",
    "\n",
    "widgets.append(ipywidgets.HBox( [top_btn, bottom_btn, down_btn, up_btn] ))\n",
    "widgets.append(ipywidgets.HBox( [SortF_btn, SortR_btn] ))\n",
    "widgets.append(ipywidgets.HBox( [textBox] ))\n",
    "widgets.append(ipywidgets.HBox( [out] ))\n",
    "widgets.append(ipywidgets.HBox( [avgAll] ))\n",
    "widgets.append(ipywidgets.HBox( [avgS] ))\n",
    "\n",
    "ipywidgets.VBox(widgets)"
   ]
  },
  {
   "cell_type": "code",
   "execution_count": null,
   "id": "302ef9e6-8a04-4cf0-bf90-dbe73c5aee3b",
   "metadata": {},
   "outputs": [],
   "source": []
  }
 ],
 "metadata": {
  "kernelspec": {
   "display_name": "Python 3 (ipykernel)",
   "language": "python",
   "name": "python3"
  },
  "language_info": {
   "codemirror_mode": {
    "name": "ipython",
    "version": 3
   },
   "file_extension": ".py",
   "mimetype": "text/x-python",
   "name": "python",
   "nbconvert_exporter": "python",
   "pygments_lexer": "ipython3",
   "version": "3.10.1"
  }
 },
 "nbformat": 4,
 "nbformat_minor": 5
}
